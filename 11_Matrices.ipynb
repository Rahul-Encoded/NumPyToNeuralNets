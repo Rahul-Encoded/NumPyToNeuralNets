{
 "cells": [
  {
   "cell_type": "code",
   "execution_count": 1,
   "id": "d11a0460",
   "metadata": {},
   "outputs": [],
   "source": [
    "import numpy as np"
   ]
  },
  {
   "cell_type": "code",
   "execution_count": 6,
   "id": "af086da0",
   "metadata": {},
   "outputs": [
    {
     "name": "stdout",
     "output_type": "stream",
     "text": [
      "[[6 9]\n",
      " [2 1]\n",
      " [8 8]]\n"
     ]
    }
   ],
   "source": [
    "#Creating a Matrix using numpy\n",
    "matrix_1 = np.array([[6,9], [2,1], [8,8]])\n",
    "print(matrix_1)"
   ]
  },
  {
   "cell_type": "code",
   "execution_count": 7,
   "id": "99f00b98",
   "metadata": {},
   "outputs": [
    {
     "data": {
      "text/plain": [
       "(3, 2)"
      ]
     },
     "execution_count": 7,
     "metadata": {},
     "output_type": "execute_result"
    }
   ],
   "source": [
    "matrix_1.shape"
   ]
  },
  {
   "cell_type": "code",
   "execution_count": 9,
   "id": "9bfbc5e7",
   "metadata": {},
   "outputs": [
    {
     "name": "stdout",
     "output_type": "stream",
     "text": [
      "[[0.58063693 0.76183623 0.98964902]\n",
      " [0.65719952 0.13297793 0.39611525]\n",
      " [0.09863525 0.43853001 0.89664215]]\n"
     ]
    }
   ],
   "source": [
    "#Creating matrices with random values\n",
    "\n",
    "rand_mat = np.random.rand(3,3)\n",
    "print(rand_mat)"
   ]
  },
  {
   "cell_type": "code",
   "execution_count": 11,
   "id": "e8f01558",
   "metadata": {},
   "outputs": [
    {
     "name": "stdout",
     "output_type": "stream",
     "text": [
      "[[51 53 18 42 21]\n",
      " [32 97 16 46 89]\n",
      " [23 74 44 60 31]\n",
      " [70 86 29 40 88]]\n"
     ]
    }
   ],
   "source": [
    "#Creating matrices with random integers\n",
    "\n",
    "rand_int_mat = np.random.randint(100, size=(4,5))\n",
    "print(rand_int_mat)"
   ]
  },
  {
   "cell_type": "code",
   "execution_count": 13,
   "id": "4bd61d33",
   "metadata": {},
   "outputs": [
    {
     "name": "stdout",
     "output_type": "stream",
     "text": [
      "[[1. 1. 1.]\n",
      " [1. 1. 1.]]\n"
     ]
    }
   ],
   "source": [
    "# Matrix with all the values as 1\n",
    "mat3 = np.ones((2,3))\n",
    "print(mat3)"
   ]
  },
  {
   "cell_type": "code",
   "execution_count": 14,
   "id": "59521a1a",
   "metadata": {},
   "outputs": [
    {
     "name": "stdout",
     "output_type": "stream",
     "text": [
      "[[1 1 1]\n",
      " [1 1 1]]\n"
     ]
    }
   ],
   "source": [
    "mat3 = np.ones((2,3), dtype=int)\n",
    "print(mat3)"
   ]
  },
  {
   "cell_type": "code",
   "execution_count": 17,
   "id": "79b5d3e8",
   "metadata": {},
   "outputs": [
    {
     "name": "stdout",
     "output_type": "stream",
     "text": [
      "[[0 0 0 0 0 0 0 0 0]\n",
      " [0 0 0 0 0 0 0 0 0]\n",
      " [0 0 0 0 0 0 0 0 0]\n",
      " [0 0 0 0 0 0 0 0 0]\n",
      " [0 0 0 0 0 0 0 0 0]\n",
      " [0 0 0 0 0 0 0 0 0]]\n"
     ]
    }
   ],
   "source": [
    "#Null Matrix\n",
    "null_mat = np.zeros((6,9), dtype=int)\n",
    "print(null_mat)"
   ]
  },
  {
   "cell_type": "code",
   "execution_count": 19,
   "id": "6914ae16",
   "metadata": {},
   "outputs": [
    {
     "name": "stdout",
     "output_type": "stream",
     "text": [
      "[[1. 0. 0. 0.]\n",
      " [0. 1. 0. 0.]\n",
      " [0. 0. 1. 0.]]\n"
     ]
    }
   ],
   "source": [
    "# Identity Matrix\n",
    "id_mat=np.eye(3,4)\n",
    "print(id_mat)"
   ]
  },
  {
   "cell_type": "code",
   "execution_count": 22,
   "id": "7b40283f",
   "metadata": {},
   "outputs": [
    {
     "name": "stdout",
     "output_type": "stream",
     "text": [
      "[[1 0 0]\n",
      " [0 1 0]\n",
      " [0 0 1]]\n"
     ]
    }
   ],
   "source": [
    "# Identity Matrix\n",
    "id_mat=np.eye(3,3, dtype=int)\n",
    "print(id_mat)"
   ]
  },
  {
   "cell_type": "code",
   "execution_count": 25,
   "id": "d01db30e",
   "metadata": {},
   "outputs": [
    {
     "name": "stdout",
     "output_type": "stream",
     "text": [
      "[[38 93 96  7 71]\n",
      " [10 93 29 95 28]\n",
      " [32 45 83 98 42]\n",
      " [52 34 72 56 51]]\n"
     ]
    }
   ],
   "source": [
    "#Transpose of a matrix\n",
    "a = np.random.randint(100, size=(4,5))\n",
    "print(a)"
   ]
  },
  {
   "cell_type": "code",
   "execution_count": 27,
   "id": "aad47b72",
   "metadata": {},
   "outputs": [
    {
     "name": "stdout",
     "output_type": "stream",
     "text": [
      "[[38 10 32 52]\n",
      " [93 93 45 34]\n",
      " [96 29 83 72]\n",
      " [ 7 95 98 56]\n",
      " [71 28 42 51]]\n"
     ]
    }
   ],
   "source": [
    "transpose_of_a = np.transpose(a)\n",
    "print(transpose_of_a)"
   ]
  },
  {
   "cell_type": "code",
   "execution_count": 28,
   "id": "df4cf875",
   "metadata": {},
   "outputs": [],
   "source": [
    "# Adding 2 Matrices\n",
    "b = np.random.randint(100, size=(4,5))"
   ]
  },
  {
   "cell_type": "code",
   "execution_count": 29,
   "id": "04ce57c1",
   "metadata": {},
   "outputs": [
    {
     "name": "stdout",
     "output_type": "stream",
     "text": [
      "A= [[38 93 96  7 71]\n",
      " [10 93 29 95 28]\n",
      " [32 45 83 98 42]\n",
      " [52 34 72 56 51]]\n",
      "B= [[72  9 85 86 60]\n",
      " [28 91 62 77 78]\n",
      " [59  1  5 28 78]\n",
      " [74 22 27 42 31]]\n"
     ]
    }
   ],
   "source": [
    "print(\"A=\", a)\n",
    "print(\"B=\", b)\n"
   ]
  },
  {
   "cell_type": "code",
   "execution_count": 30,
   "id": "517f0ac7",
   "metadata": {},
   "outputs": [
    {
     "name": "stdout",
     "output_type": "stream",
     "text": [
      "[[110 102 181  93 131]\n",
      " [ 38 184  91 172 106]\n",
      " [ 91  46  88 126 120]\n",
      " [126  56  99  98  82]]\n"
     ]
    }
   ],
   "source": [
    "sum = a + b\n",
    "print(sum)"
   ]
  },
  {
   "cell_type": "code",
   "execution_count": 32,
   "id": "31e9323d",
   "metadata": {},
   "outputs": [],
   "source": [
    "transpose_of_b = np.transpose(b)"
   ]
  },
  {
   "cell_type": "code",
   "execution_count": 33,
   "id": "20f4c360",
   "metadata": {},
   "outputs": [
    {
     "name": "stdout",
     "output_type": "stream",
     "text": [
      "[[72 28 59 74]\n",
      " [ 9 91  1 22]\n",
      " [85 62  5 27]\n",
      " [86 77 28 42]\n",
      " [60 78 78 31]]\n"
     ]
    }
   ],
   "source": [
    "print(transpose_of_b)"
   ]
  },
  {
   "cell_type": "code",
   "execution_count": 34,
   "id": "9fb38fbc",
   "metadata": {},
   "outputs": [
    {
     "name": "stdout",
     "output_type": "stream",
     "text": [
      "[[110  38  91 126]\n",
      " [102 184  46  56]\n",
      " [181  91  88  99]\n",
      " [ 93 172 126  98]\n",
      " [131 106 120  82]]\n"
     ]
    }
   ],
   "source": [
    "sumT = np.add(transpose_of_b, transpose_of_a)\n",
    "print(sumT)"
   ]
  },
  {
   "cell_type": "code",
   "execution_count": 35,
   "id": "fad5cc8c",
   "metadata": {},
   "outputs": [
    {
     "name": "stdout",
     "output_type": "stream",
     "text": [
      "[[-34  84  11 -79  11]\n",
      " [-18   2 -33  18 -50]\n",
      " [-27  44  78  70 -36]\n",
      " [-22  12  45  14  20]]\n"
     ]
    }
   ],
   "source": [
    "difference = a - b\n",
    "print(difference)"
   ]
  },
  {
   "cell_type": "code",
   "execution_count": 36,
   "id": "6d93d048",
   "metadata": {},
   "outputs": [
    {
     "name": "stdout",
     "output_type": "stream",
     "text": [
      "[[ 34  18  27  22]\n",
      " [-84  -2 -44 -12]\n",
      " [-11  33 -78 -45]\n",
      " [ 79 -18 -70 -14]\n",
      " [-11  50  36 -20]]\n"
     ]
    }
   ],
   "source": [
    "diffT = np.subtract(transpose_of_b, transpose_of_a)\n",
    "print(diffT)"
   ]
  },
  {
   "cell_type": "code",
   "execution_count": null,
   "id": "de0c7320",
   "metadata": {},
   "outputs": [
    {
     "name": "stdout",
     "output_type": "stream",
     "text": [
      "[[2736  837 8160  602 4260]\n",
      " [ 280 8463 1798 7315 2184]\n",
      " [1888   45  415 2744 3276]\n",
      " [3848  748 1944 2352 1581]]\n"
     ]
    }
   ],
   "source": [
    "# Multiplication of 2 matrices\n",
    "\"\"\"\n",
    "\n",
    "The main rule is the number of columns in the first matrix must equal the number of rows in the second matrix.\n",
    "​If matrix A is m \\times n and matrix B is n \\times p, their product AB is defined and will be an m \\times p matrix.\n",
    "\n",
    "\"\"\"\n",
    "product = a * b\n",
    "print(product)"
   ]
  },
  {
   "cell_type": "code",
   "execution_count": 40,
   "id": "3497fc69",
   "metadata": {},
   "outputs": [
    {
     "name": "stdout",
     "output_type": "stream",
     "text": [
      "[[24399 14466 17037 16063]\n",
      " [14466 19399 17398 12518]\n",
      " [17037 17398 21306 16800]\n",
      " [16063 12518 16800 14781]]\n"
     ]
    }
   ],
   "source": [
    "productT = np.dot(a, transpose_of_a)\n",
    "print(productT)"
   ]
  },
  {
   "cell_type": "code",
   "execution_count": 41,
   "id": "37f01b0d",
   "metadata": {},
   "outputs": [],
   "source": [
    "product_ = np.multiply(4, a)\n",
    "product_2 = np.dot(4, a)"
   ]
  },
  {
   "cell_type": "code",
   "execution_count": 44,
   "id": "e1302be7",
   "metadata": {},
   "outputs": [
    {
     "name": "stdout",
     "output_type": "stream",
     "text": [
      "[[152 372 384  28 284]\n",
      " [ 40 372 116 380 112]\n",
      " [128 180 332 392 168]\n",
      " [208 136 288 224 204]]\n",
      "_______________________________________\n",
      "[[152 372 384  28 284]\n",
      " [ 40 372 116 380 112]\n",
      " [128 180 332 392 168]\n",
      " [208 136 288 224 204]]\n"
     ]
    }
   ],
   "source": [
    "print(product_)\n",
    "print(\"_______________________________________\")\n",
    "print(product_2)"
   ]
  },
  {
   "cell_type": "code",
   "execution_count": 47,
   "id": "860d0bd9",
   "metadata": {},
   "outputs": [],
   "source": [
    "#Elementwise multiplication but they need to be of same order/shape\n",
    "product_a_b = np.multiply(a,b)\n"
   ]
  },
  {
   "cell_type": "code",
   "execution_count": 48,
   "id": "66a683c0",
   "metadata": {},
   "outputs": [
    {
     "name": "stdout",
     "output_type": "stream",
     "text": [
      "[[2736  837 8160  602 4260]\n",
      " [ 280 8463 1798 7315 2184]\n",
      " [1888   45  415 2744 3276]\n",
      " [3848  748 1944 2352 1581]]\n"
     ]
    }
   ],
   "source": [
    "print(product_a_b)"
   ]
  }
 ],
 "metadata": {
  "kernelspec": {
   "display_name": "base",
   "language": "python",
   "name": "python3"
  },
  "language_info": {
   "codemirror_mode": {
    "name": "ipython",
    "version": 3
   },
   "file_extension": ".py",
   "mimetype": "text/x-python",
   "name": "python",
   "nbconvert_exporter": "python",
   "pygments_lexer": "ipython3",
   "version": "3.12.7"
  }
 },
 "nbformat": 4,
 "nbformat_minor": 5
}
