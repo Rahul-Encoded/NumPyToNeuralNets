{
 "cells": [
  {
   "cell_type": "code",
   "execution_count": 1,
   "id": "2063e19f",
   "metadata": {},
   "outputs": [],
   "source": [
    "import numpy as np\n",
    "import matplotlib.pyplot as plt\n",
    "from sklearn.datasets import load_diabetes"
   ]
  },
  {
   "cell_type": "code",
   "execution_count": 8,
   "id": "717ab087",
   "metadata": {},
   "outputs": [
    {
     "name": "stdout",
     "output_type": "stream",
     "text": [
      "X= [1 3 4] 3\n",
      "y= [2 4 8] (3,)\n"
     ]
    }
   ],
   "source": [
    "#Linear Regression\n",
    "\n",
    "# Initialize some X,y,w,b\n",
    "\n",
    "X = np.array([1,3,4])\n",
    "y = np.array([2,4,8])\n",
    "\n",
    "print(\"X=\", X, X.shape[0])\n",
    "print(\"y=\", y, y.shape)"
   ]
  },
  {
   "cell_type": "code",
   "execution_count": 3,
   "id": "597af03d",
   "metadata": {},
   "outputs": [],
   "source": [
    "#Assuming weight and bias\n",
    "w = 1.5\n",
    "b = 1"
   ]
  },
  {
   "cell_type": "code",
   "execution_count": 4,
   "id": "c061ef89",
   "metadata": {},
   "outputs": [],
   "source": [
    "#Predict y_hat\n",
    "def predict_y(X,w,b):\n",
    "\tm = X.shape[0]\n",
    "\ty_hat = np.zeros(m)\n",
    "\n",
    "\tfor i in range(m):\n",
    "\t\ty_hat[i] = (w*X[i]) + b\n",
    "\t\n",
    "\treturn y_hat"
   ]
  },
  {
   "cell_type": "code",
   "execution_count": 9,
   "id": "94e87686",
   "metadata": {},
   "outputs": [
    {
     "data": {
      "text/plain": [
       "(array([2.5, 5.5, 7. ]), array([2, 4, 8]))"
      ]
     },
     "execution_count": 9,
     "metadata": {},
     "output_type": "execute_result"
    }
   ],
   "source": [
    "predict_y(X, w, b), y"
   ]
  },
  {
   "cell_type": "code",
   "execution_count": 12,
   "id": "1545fa91",
   "metadata": {},
   "outputs": [],
   "source": [
    "def plot_true_pred(X,y,w,b):\n",
    "\ty_hat = predict_y(X,w,b)\n",
    "\tplt.figure(figsize=(4,3))\n",
    "\tplt.scatter(X,y,label=\"y_true\")\n",
    "\tplt.plot(X, y_hat, label=\"y_hat\")\n",
    "\tplt.title(\"y_true vs y_hat\")\n",
    "\tplt.legend()"
   ]
  },
  {
   "cell_type": "code",
   "execution_count": 13,
   "id": "810b9871",
   "metadata": {},
   "outputs": [
    {
     "data": {
      "image/png": "[encoded data removed]",
      "text/plain": [
       "<Figure size 400x300 with 1 Axes>"
      ]
     },
     "metadata": {},
     "output_type": "display_data"
    }
   ],
   "source": [
    "plot_true_pred(X,y,w,b)"
   ]
  },
  {
   "cell_type": "code",
   "execution_count": 14,
   "id": "92bd3932",
   "metadata": {},
   "outputs": [
    {
     "name": "stdout",
     "output_type": "stream",
     "text": [
      "[2 4 8]\n",
      "[2.5 5.5 7. ]\n"
     ]
    }
   ],
   "source": [
    "#MSE Cost function\n",
    "y_hat = predict_y(X,w,b)\n",
    "print(y)\n",
    "print(y_hat)"
   ]
  },
  {
   "cell_type": "code",
   "execution_count": 15,
   "id": "cc44c9fd",
   "metadata": {},
   "outputs": [],
   "source": [
    "def MSE(y, y_hat):\n",
    "\tdata_shape = y.shape[0]\n",
    "\tsquare_error_sum = 0\n",
    "\tfor i in range(data_shape):\n",
    "\t\tsquare_error_sum += (y[i]-y_hat[i])**2\n",
    "\n",
    "\treturn (square_error_sum/(2*data_shape))  "
   ]
  },
  {
   "cell_type": "code",
   "execution_count": 16,
   "id": "d0c01139",
   "metadata": {},
   "outputs": [
    {
     "data": {
      "text/plain": [
       "0.5833333333333334"
      ]
     },
     "execution_count": 16,
     "metadata": {},
     "output_type": "execute_result"
    }
   ],
   "source": [
    "MSE(y, y_hat)"
   ]
  },
  {
   "cell_type": "code",
   "execution_count": 28,
   "id": "b1442cb0",
   "metadata": {},
   "outputs": [
    {
     "name": "stdout",
     "output_type": "stream",
     "text": [
      "X= [1 3 4]\n",
      "<class 'numpy.ndarray'>\n",
      "Y= [2 4 8]\n",
      "<class 'numpy.ndarray'>\n"
     ]
    }
   ],
   "source": [
    "print(\"X=\",X)\n",
    "print(type(X))\n",
    "print(\"Y=\",y)\n",
    "print(type(y))"
   ]
  },
  {
   "cell_type": "code",
   "execution_count": 29,
   "id": "bd069a30",
   "metadata": {},
   "outputs": [],
   "source": [
    "#Gradient Descent\n",
    "def gradient(X,y,w,b):\n",
    "\tm = X.shape[0]\n",
    "\n",
    "\tdj_dw = 0\n",
    "\tdj_db = 0\n",
    "\n",
    "\tfor i in range(m):\n",
    "\t\terror = w*X[i] + b - y[i]\n",
    "\t\tdj_dw += 2*(error * X[i])\n",
    "\t\tdj_db += 2*(error)\n",
    "\n",
    "\tdj_dw = dj_dw/m\n",
    "\tdj_db = dj_db/m\n",
    "\n",
    "\treturn dj_dw, dj_db\n"
   ]
  },
  {
   "cell_type": "code",
   "execution_count": 31,
   "id": "05d78310",
   "metadata": {},
   "outputs": [
    {
     "data": {
      "text/plain": [
       "0.5792222222222222"
      ]
     },
     "execution_count": 31,
     "metadata": {},
     "output_type": "execute_result"
    }
   ],
   "source": [
    "alpha = 0.01\n",
    "\n",
    "dj_dw, dj_db = gradient(X,y,w,b)\n",
    "\n",
    "w_new = w - alpha*dj_dw\n",
    "b_new = b - alpha*dj_db\n",
    "\n",
    "MSE(y, predict_y(X,w_new,b_new))"
   ]
  },
  {
   "cell_type": "code",
   "execution_count": 32,
   "id": "bc75959f",
   "metadata": {},
   "outputs": [
    {
     "name": "stdout",
     "output_type": "stream",
     "text": [
      "Cost before gradient descent 0.5833333333333334\n",
      "Cost after gradient descent 0.5792222222222222\n"
     ]
    }
   ],
   "source": [
    "print(\"Cost before gradient descent\", MSE(y, predict_y(X,w,b)))\n",
    "print(\"Cost after gradient descent\", MSE(y, predict_y(X,w_new,b_new)))"
   ]
  },
  {
   "cell_type": "code",
   "execution_count": 58,
   "id": "1571f69b",
   "metadata": {},
   "outputs": [],
   "source": [
    "def gradient_descent(X, y, w, b, iter=2000, alpha = 0.01, history_intervals=100):\n",
    "\thistory = {}\n",
    "\tfor i in range(iter):\n",
    "\t\tdj_dw, dj_db = gradient(X,y,w,b)\n",
    "\t\tw = w - alpha*dj_dw\n",
    "\t\tb = b - alpha*dj_db\n",
    "\t\thistory[i]=MSE(y, predict_y(X,w,b))\n",
    "\n",
    "\t\tif i % history_intervals == 0 :\n",
    "\t\t\tprint(f\"Epoch {i} | Cost {history[i]}\")\n",
    "\n",
    "\treturn w, b, history\n"
   ]
  },
  {
   "cell_type": "code",
   "execution_count": 59,
   "id": "10e2a4c6",
   "metadata": {},
   "outputs": [
    {
     "name": "stdout",
     "output_type": "stream",
     "text": [
      "Epoch 0 | Cost 0.5792222222222222\n",
      "Epoch 100 | Cost 0.5036330031480194\n",
      "Epoch 200 | Cost 0.46752883600499623\n",
      "Epoch 300 | Cost 0.4487905567006474\n",
      "Epoch 400 | Cost 0.4390652773472457\n",
      "Epoch 500 | Cost 0.43401779902944004\n",
      "Epoch 600 | Cost 0.431398127507119\n",
      "Epoch 700 | Cost 0.43003850227393065\n",
      "Epoch 800 | Cost 0.4293328486227111\n",
      "Epoch 900 | Cost 0.4289666101451328\n",
      "Epoch 1000 | Cost 0.4287765301785274\n",
      "Epoch 1100 | Cost 0.4286778775357371\n",
      "Epoch 1200 | Cost 0.4286266762223982\n",
      "Epoch 1300 | Cost 0.4286001024336637\n",
      "Epoch 1400 | Cost 0.4285863104779179\n",
      "Epoch 1500 | Cost 0.42857915237015987\n",
      "Epoch 1600 | Cost 0.4285754372692985\n",
      "Epoch 1700 | Cost 0.4285735091096677\n",
      "Epoch 1800 | Cost 0.4285725083832541\n",
      "Epoch 1900 | Cost 0.428571989000243\n"
     ]
    }
   ],
   "source": [
    "w_new, b_new, history = gradient_descent(X, y, w, b)"
   ]
  },
  {
   "cell_type": "code",
   "execution_count": 60,
   "id": "c286df39",
   "metadata": {},
   "outputs": [
    {
     "data": {
      "image/png": "[encoded data removed]",
      "text/plain": [
       "<Figure size 400x300 with 1 Axes>"
      ]
     },
     "metadata": {},
     "output_type": "display_data"
    }
   ],
   "source": [
    "def plot_history(history):\n",
    "\tplt.figure(figsize=(4,3))\n",
    "\tplt.plot(history.keys(), history.values())\n",
    "\tplt.title(\"Cost History\")\n",
    "\tplt.show()\n",
    "\n",
    "plot_history(history)"
   ]
  },
  {
   "cell_type": "code",
   "execution_count": 61,
   "id": "4b4896c6",
   "metadata": {},
   "outputs": [
    {
     "data": {
      "text/plain": [
       "<matplotlib.legend.Legend at 0x194aa9de690>"
      ]
     },
     "execution_count": 61,
     "metadata": {},
     "output_type": "execute_result"
    },
    {
     "data": {
      "image/png": "[encoded data removed]",
      "text/plain": [
       "<Figure size 640x480 with 1 Axes>"
      ]
     },
     "metadata": {},
     "output_type": "display_data"
    }
   ],
   "source": [
    "## Model Evaluation\n",
    "y_hat_old = predict_y(X,w,b)\n",
    "y_hat_new = predict_y(X,w_new,b_new)\n",
    "\n",
    "plt.scatter(X, y)\n",
    "plt.plot(X, y_hat_old, label=\"old\")\n",
    "plt.plot(X, y_hat_new, label=\"new\")\n",
    "plt.legend()\n",
    "\n",
    "\n"
   ]
  },
  {
   "cell_type": "code",
   "execution_count": null,
   "id": "e2df4f3a",
   "metadata": {},
   "outputs": [],
   "source": []
  }
 ],
 "metadata": {
  "kernelspec": {
   "display_name": "base",
   "language": "python",
   "name": "python3"
  },
  "language_info": {
   "codemirror_mode": {
    "name": "ipython",
    "version": 3
   },
   "file_extension": ".py",
   "mimetype": "text/x-python",
   "name": "python",
   "nbconvert_exporter": "python",
   "pygments_lexer": "ipython3",
   "version": "3.12.7"
  }
 },
 "nbformat": 4,
 "nbformat_minor": 5
}
