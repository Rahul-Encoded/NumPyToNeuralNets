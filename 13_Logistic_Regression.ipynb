{
 "cells": [
  {
   "cell_type": "markdown",
   "id": "40273573",
   "metadata": {},
   "source": [
    "## Multiple Logistic Regression"
   ]
  },
  {
   "cell_type": "code",
   "execution_count": 174,
   "id": "9bfee44d",
   "metadata": {},
   "outputs": [],
   "source": [
    "import numpy as np\n",
    "import matplotlib.pyplot as plt\n",
    "from sklearn.datasets import make_blobs"
   ]
  },
  {
   "cell_type": "code",
   "execution_count": 175,
   "id": "b7990bba",
   "metadata": {},
   "outputs": [],
   "source": [
    "# Logistic Regression\n",
    "# Initialize X,y,w,b\n",
    "\n",
    "X = np.array([0,1,2,3,4,6])\n",
    "y = np.array([0,0,1,0,1,1])\n",
    "w = 2 \n",
    "b = -3"
   ]
  },
  {
   "cell_type": "code",
   "execution_count": 176,
   "id": "16647361",
   "metadata": {},
   "outputs": [],
   "source": [
    "# Predict y given X, w, b\n",
    "\n",
    "def sigmoid(z):\n",
    "\treturn (1/(1 + np.exp(-z)))"
   ]
  },
  {
   "cell_type": "code",
   "execution_count": 177,
   "id": "4d14a781",
   "metadata": {},
   "outputs": [],
   "source": [
    "def predict_y(X,w,b):\n",
    "\tm = X.shape[0]\n",
    "\ty_probs = np.zeros(m)\n",
    "\n",
    "\tfor i in range(m):\n",
    "\t\ty_probs[i] = sigmoid(w*X[i]+b)\n",
    "\t\n",
    "\ty_preds = np.where(y_probs >= 0.5, 1, 0)\n",
    "\treturn y_preds, y_probs"
   ]
  },
  {
   "cell_type": "code",
   "execution_count": 178,
   "id": "799820bf",
   "metadata": {},
   "outputs": [],
   "source": [
    "y_preds, y_probs = predict_y(X,w,b)"
   ]
  },
  {
   "cell_type": "code",
   "execution_count": 179,
   "id": "a9695b2b",
   "metadata": {},
   "outputs": [
    {
     "data": {
      "text/plain": [
       "(array([0, 0, 1, 1, 1, 1]),\n",
       " array([0.04742587, 0.26894142, 0.73105858, 0.95257413, 0.99330715,\n",
       "        0.99987661]))"
      ]
     },
     "execution_count": 179,
     "metadata": {},
     "output_type": "execute_result"
    }
   ],
   "source": [
    "y_preds, y_probs"
   ]
  },
  {
   "cell_type": "code",
   "execution_count": 180,
   "id": "9a9ec9ae",
   "metadata": {},
   "outputs": [
    {
     "data": {
      "text/plain": [
       "<matplotlib.legend.Legend at 0x1ebb1fb3620>"
      ]
     },
     "execution_count": 180,
     "metadata": {},
     "output_type": "execute_result"
    },
    {
     "data": {
      "image/png": "[encoded data removed]",
      "text/plain": [
       "<Figure size 500x300 with 1 Axes>"
      ]
     },
     "metadata": {},
     "output_type": "display_data"
    }
   ],
   "source": [
    "plt.figure(figsize=(5,3))\n",
    "plt.scatter(X,y,color=\"g\",label=\"y_true\")\n",
    "plt.plot(X,y_probs,color=\"b\",label=\"y_pred\")\n",
    "plt.scatter(X,y_preds,color=\"b\",label=\"y_pred\", marker=\"x\")\n",
    "plt.plot([X.min(), X.max()], [0.5]*2, linestyle=\"dotted\", color=\"grey\")\n",
    "plt.xlabel(\"X\")\n",
    "plt.ylabel(\"y\")\n",
    "plt.title(\"y_prob vs y_pred on given X\")\n",
    "plt.legend()\n"
   ]
  },
  {
   "cell_type": "code",
   "execution_count": 181,
   "id": "8c110307",
   "metadata": {},
   "outputs": [],
   "source": [
    "def cost(X,y,w,b, epsilon = 1e-5):\n",
    "\ty_preds, y_prob = predict_y(X,w,b)\n",
    "\tm = X.shape[0]\n",
    "\tcost = 0\n",
    "\n",
    "\tfor i in range(m):\n",
    "\t\tlog_loss = ((-y[i]*np.log(y_prob[i]+epsilon)) - ((1-y[i])*np.log((1-y_prob[i])+epsilon)))\t#since log = 0 is undefined\n",
    "\t\tcost += log_loss\n",
    "\n",
    "\treturn cost/m\n"
   ]
  },
  {
   "cell_type": "code",
   "execution_count": 182,
   "id": "1e88917c",
   "metadata": {},
   "outputs": [],
   "source": [
    "def calc_cost(X,y,w,b, epsilon=1e-5):\n",
    "\tm = X.shape[0]\n",
    "\tcost = 0\n",
    "\n",
    "\tfor i in range(m):\n",
    "\t\tz = w*X[i]+b\n",
    "\t\tf_wb = sigmoid(z)\n",
    "\t\tlog_loss = ((-y[i]*np.log(f_wb + epsilon))-((1-y[i])*np.log(1-f_wb)+epsilon))\n",
    "\t\tcost += log_loss\n",
    "\n",
    "\treturn cost/m\n",
    "\t"
   ]
  },
  {
   "cell_type": "markdown",
   "id": "1c8197d3",
   "metadata": {},
   "source": [
    "The calc_cost (v2) approach is superior because it integrates the prediction and cost calculation into a single loop.Reduced Overhead: By calculating the raw input ($z = w \\cdot X[i] + b$), the probability ($\\hat{y} = \\text{sigmoid}(z)$), and the cost all inside the main for loop, you avoid the overhead of calling and returning from the predict_y function for every cost calculation iteration.Optimized Structure: When performing gradient descent, you only need the current cost; you don't need the final array of predictions ($\\hat{y}$) until you want to evaluate the model's performance. Calculating cost one sample at a time is the most direct way to implement the formula."
   ]
  },
  {
   "cell_type": "code",
   "execution_count": 183,
   "id": "5b0a8712",
   "metadata": {},
   "outputs": [
    {
     "data": {
      "text/plain": [
       "0.6217113453317057"
      ]
     },
     "execution_count": 183,
     "metadata": {},
     "output_type": "execute_result"
    }
   ],
   "source": [
    "cost(X,y,w,b)"
   ]
  },
  {
   "cell_type": "code",
   "execution_count": 184,
   "id": "e38e8eb5",
   "metadata": {},
   "outputs": [
    {
     "data": {
      "text/plain": [
       "0.6217405136081727"
      ]
     },
     "execution_count": 184,
     "metadata": {},
     "output_type": "execute_result"
    }
   ],
   "source": [
    "calc_cost(X,y,w,b)"
   ]
  },
  {
   "cell_type": "code",
   "execution_count": 185,
   "id": "c648cdea",
   "metadata": {},
   "outputs": [
    {
     "data": {
      "text/plain": [
       "0.42394198519056464"
      ]
     },
     "execution_count": 185,
     "metadata": {},
     "output_type": "execute_result"
    }
   ],
   "source": [
    "calc_cost(X,y,w-1,b)"
   ]
  },
  {
   "cell_type": "code",
   "execution_count": 186,
   "id": "af9ca6dd",
   "metadata": {},
   "outputs": [
    {
     "data": {
      "text/plain": [
       "1.5484719350025606"
      ]
     },
     "execution_count": 186,
     "metadata": {},
     "output_type": "execute_result"
    }
   ],
   "source": [
    "calc_cost(X,y,w-2,b)"
   ]
  },
  {
   "cell_type": "code",
   "execution_count": 187,
   "id": "bb585033",
   "metadata": {},
   "outputs": [
    {
     "data": {
      "text/plain": [
       "1.132138462997413"
      ]
     },
     "execution_count": 187,
     "metadata": {},
     "output_type": "execute_result"
    }
   ],
   "source": [
    "calc_cost(X,y,w+1,b)"
   ]
  },
  {
   "cell_type": "code",
   "execution_count": 188,
   "id": "4ef34bea",
   "metadata": {},
   "outputs": [
    {
     "data": {
      "text/plain": [
       "1.7280999972673083"
      ]
     },
     "execution_count": 188,
     "metadata": {},
     "output_type": "execute_result"
    }
   ],
   "source": [
    "calc_cost(X,y,w+2,b)"
   ]
  },
  {
   "cell_type": "code",
   "execution_count": 189,
   "id": "18c5a758",
   "metadata": {},
   "outputs": [
    {
     "data": {
      "text/plain": [
       "2.3627238342828814"
      ]
     },
     "execution_count": 189,
     "metadata": {},
     "output_type": "execute_result"
    }
   ],
   "source": [
    "calc_cost(X,y,w+3,b)"
   ]
  },
  {
   "cell_type": "code",
   "execution_count": 190,
   "id": "b183e94e",
   "metadata": {},
   "outputs": [],
   "source": [
    "# Gradient Descent\n",
    "def calc_gradient(X,y,w,b):\n",
    "\tm = X.shape[0]\n",
    "\tdJ_db = 0\n",
    "\tdJ_dw = 0\n",
    "\n",
    "\tfor i in range(m):\n",
    "\t\tdJ_dw += (sigmoid(w*X[i]+b) - y[i])*X[i]\n",
    "\t\tdJ_db += sigmoid(w*X[i]+b) - y[i]\n",
    "\t\n",
    "\treturn dJ_dw/m, dJ_db/m"
   ]
  },
  {
   "cell_type": "code",
   "execution_count": 191,
   "id": "f43ac967",
   "metadata": {},
   "outputs": [],
   "source": [
    "dJ_dw, dJ_db = calc_gradient(X,y,w,b)"
   ]
  },
  {
   "cell_type": "code",
   "execution_count": 192,
   "id": "d42648ce",
   "metadata": {},
   "outputs": [
    {
     "data": {
      "text/plain": [
       "(0.426878197990708, 0.16553062574995486)"
      ]
     },
     "execution_count": 192,
     "metadata": {},
     "output_type": "execute_result"
    }
   ],
   "source": [
    "dJ_dw, dJ_db"
   ]
  },
  {
   "cell_type": "code",
   "execution_count": 193,
   "id": "032735f2",
   "metadata": {},
   "outputs": [
    {
     "name": "stdout",
     "output_type": "stream",
     "text": [
      "Initial w:2\tInitial b:-3\tInitial Cost:0.6217405136081727\n",
      "dJ/dw=0.426878197990708\tdJ/db=0.16553062574995486\n",
      "w_new=1.995731218020093\tb_new=-3.0016553062574998\tInitial Cost:0.619647537048092\n"
     ]
    }
   ],
   "source": [
    "print(f\"Initial w:{w}\\tInitial b:{b}\\tInitial Cost:{calc_cost(X,y,w,b)}\")\n",
    "\n",
    "print(f\"dJ/dw={dJ_dw}\\tdJ/db={dJ_db}\")\n",
    "\n",
    "alpha=0.01\n",
    "\n",
    "w_new = w - alpha*dJ_dw\n",
    "b_new = b - alpha*dJ_db\n",
    "print(f\"w_new={w_new}\\tb_new={b_new}\\tInitial Cost:{calc_cost(X,y,w_new,b_new)}\")"
   ]
  },
  {
   "cell_type": "code",
   "execution_count": 194,
   "id": "0f4fcba0",
   "metadata": {},
   "outputs": [],
   "source": [
    "def gradient_descent(x,y,w,b,alpha=0.01, iter=1000,step=100):\n",
    "\thistory={}\n",
    "\tbest_b = b\n",
    "\tbest_w = w\n",
    "\t\n",
    "\tfor i in range(iter):\n",
    "\t\tdJ_dw,dJ_db=calc_gradient(X,y,w,b)\n",
    "\t\tw = w - (alpha*dJ_dw)\n",
    "\t\tb = b - (alpha*dJ_db)\n",
    "\n",
    "\t\tif i % step == 0:\n",
    "\t\t\tcost = calc_cost(X,y,w,b)\n",
    "\t\t\thistory[i] = cost\n",
    "\t\t\tmin_cost = min(history.values())\n",
    "\t\t\tif cost < min_cost:\n",
    "\t\t\t\tbest_w = w\n",
    "\t\t\t\tbest_b = b\n",
    "\t\t\tprint(f\"Epoch:{i}\\tw={w}\\tb={b}\\tCost:{cost}\\tMin Cost:{min_cost}\\tbest_w={best_w}\\tbest_b={best_b}\")\n",
    "\n",
    "\treturn history,w,b,best_w,best_b"
   ]
  },
  {
   "cell_type": "code",
   "execution_count": 195,
   "id": "42bf5c5d",
   "metadata": {},
   "outputs": [
    {
     "name": "stdout",
     "output_type": "stream",
     "text": [
      "Epoch:0\tw=1.995731218020093\tb=-3.0016553062574998\tCost:0.619647537048092\tMin Cost:0.619647537048092\tbest_w=2\tbest_b=-3\n",
      "Epoch:100\tw=1.6393624796273907\tb=-3.1328898033284633\tCost:0.47360188975402223\tMin Cost:0.47360188975402223\tbest_w=2\tbest_b=-3\n",
      "Epoch:200\tw=1.4274008133662524\tb=-3.202084300020502\tCost:0.4222700193905391\tMin Cost:0.4222700193905391\tbest_w=2\tbest_b=-3\n",
      "Epoch:300\tw=1.325875872101328\tb=-3.2295848686630557\tCost:0.4106008073172253\tMin Cost:0.4106008073172253\tbest_w=2\tbest_b=-3\n",
      "Epoch:400\tw=1.2832396332570366\tb=-3.2364053151195886\tCost:0.408610238292717\tMin Cost:0.408610238292717\tbest_w=2\tbest_b=-3\n",
      "Epoch:500\tw=1.2657578469573072\tb=-3.2347510436507108\tCost:0.4082821375064931\tMin Cost:0.4082821375064931\tbest_w=2\tbest_b=-3\n",
      "Epoch:600\tw=1.2579678013232503\tb=-3.2299649150924283\tCost:0.40819578950431157\tMin Cost:0.40819578950431157\tbest_w=2\tbest_b=-3\n",
      "Epoch:700\tw=1.2537724747737327\tb=-3.224115756192357\tCost:0.4081436087261023\tMin Cost:0.4081436087261023\tbest_w=2\tbest_b=-3\n",
      "Epoch:800\tw=1.2509057731597886\tb=-3.2179659567580856\tCost:0.40809752701241625\tMin Cost:0.40809752701241625\tbest_w=2\tbest_b=-3\n",
      "Epoch:900\tw=1.2485441478669608\tb=-3.2117903566616035\tCost:0.40805381252206646\tMin Cost:0.40805381252206646\tbest_w=2\tbest_b=-3\n"
     ]
    }
   ],
   "source": [
    "history,w,b,best_w,best_b = gradient_descent(X,y,w,b)"
   ]
  },
  {
   "cell_type": "code",
   "execution_count": 196,
   "id": "11a335eb",
   "metadata": {},
   "outputs": [],
   "source": [
    "def plot_hist(history):\n",
    "\tplt.figure(figsize=(4,3))\n",
    "\tplt.plot(history.keys(), history.values())\n",
    "\tplt.title(\"Cost over iteration\")\n",
    "\tplt.xlabel(\"Iteration\")\n",
    "\tplt.ylabel(\"Cost\")"
   ]
  },
  {
   "cell_type": "code",
   "execution_count": 197,
   "id": "c67a7fa8",
   "metadata": {},
   "outputs": [
    {
     "name": "stdout",
     "output_type": "stream",
     "text": [
      "{0: 0.619647537048092, 100: 0.47360188975402223, 200: 0.4222700193905391, 300: 0.4106008073172253, 400: 0.408610238292717, 500: 0.4082821375064931, 600: 0.40819578950431157, 700: 0.4081436087261023, 800: 0.40809752701241625, 900: 0.40805381252206646}\n"
     ]
    }
   ],
   "source": [
    "print(history)"
   ]
  },
  {
   "cell_type": "code",
   "execution_count": 198,
   "id": "51474ed6",
   "metadata": {},
   "outputs": [
    {
     "data": {
      "image/png": "[encoded data removed]",
      "text/plain": [
       "<Figure size 400x300 with 1 Axes>"
      ]
     },
     "metadata": {},
     "output_type": "display_data"
    }
   ],
   "source": [
    "plot_hist(history)"
   ]
  }
 ],
 "metadata": {
  "kernelspec": {
   "display_name": "base",
   "language": "python",
   "name": "python3"
  },
  "language_info": {
   "codemirror_mode": {
    "name": "ipython",
    "version": 3
   },
   "file_extension": ".py",
   "mimetype": "text/x-python",
   "name": "python",
   "nbconvert_exporter": "python",
   "pygments_lexer": "ipython3",
   "version": "3.12.7"
  }
 },
 "nbformat": 4,
 "nbformat_minor": 5
}
