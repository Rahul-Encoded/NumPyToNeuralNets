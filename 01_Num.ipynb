{
 "cells": [
  {
   "cell_type": "markdown",
   "id": "491e9d0a",
   "metadata": {},
   "source": []
  },
  {
   "cell_type": "markdown",
   "id": "aed2929c",
   "metadata": {},
   "source": [
    "# Numpy - Numerical Python\n",
    "\n",
    "## Advantages of Numpy Arrays:\n",
    "1. Allows several mathematical operations.\n",
    "2. Faster operations."
   ]
  },
  {
   "cell_type": "code",
   "execution_count": 1,
   "id": "f6abf2cf",
   "metadata": {},
   "outputs": [],
   "source": [
    "import numpy as np"
   ]
  },
  {
   "cell_type": "markdown",
   "id": "e3e68132",
   "metadata": {},
   "source": [
    "List vs Numpy- Time Taken"
   ]
  },
  {
   "cell_type": "code",
   "execution_count": 2,
   "id": "5eab37a9",
   "metadata": {},
   "outputs": [],
   "source": [
    "from time import process_time"
   ]
  },
  {
   "cell_type": "markdown",
   "id": "a0252a08",
   "metadata": {},
   "source": [
    "Time Taken by a list"
   ]
  },
  {
   "cell_type": "code",
   "execution_count": 3,
   "id": "b3a16393",
   "metadata": {},
   "outputs": [
    {
     "name": "stdout",
     "output_type": "stream",
     "text": [
      "0.26562500000000000000\n"
     ]
    }
   ],
   "source": [
    "list = [i for i in range(5000000)]\n",
    "\n",
    "start_time = process_time()\n",
    "\n",
    "list = [i*10 for i in list]\n",
    "\n",
    "end_time = process_time()\n",
    "\n",
    "time_taken = end_time - start_time\n",
    "print(f\"{time_taken:.20f}\")"
   ]
  },
  {
   "cell_type": "code",
   "execution_count": 4,
   "id": "b12504fc",
   "metadata": {},
   "outputs": [
    {
     "name": "stdout",
     "output_type": "stream",
     "text": [
      "0.00000000000000000000\n"
     ]
    }
   ],
   "source": [
    "np_array = np.array([i for i in range(5000000)])\n",
    "\n",
    "start_time = process_time()\n",
    "\n",
    "np_array *= 10 \n",
    "\n",
    "end_time = process_time()\n",
    "\n",
    "time_taken = end_time - start_time\n",
    "print(f\"{time_taken:.20f}\")\n"
   ]
  },
  {
   "cell_type": "code",
   "execution_count": 5,
   "id": "07831ba5",
   "metadata": {},
   "outputs": [
    {
     "name": "stdout",
     "output_type": "stream",
     "text": [
      "[0, 1, 2, 3, 4]\n"
     ]
    },
    {
     "data": {
      "text/plain": [
       "list"
      ]
     },
     "execution_count": 5,
     "metadata": {},
     "output_type": "execute_result"
    }
   ],
   "source": [
    "list = [i for i in range(5)]\n",
    "print(list)\n",
    "type(list)"
   ]
  },
  {
   "cell_type": "code",
   "execution_count": 6,
   "id": "d91693d9",
   "metadata": {},
   "outputs": [
    {
     "name": "stdout",
     "output_type": "stream",
     "text": [
      "[1 2 3 4 5]\n"
     ]
    },
    {
     "data": {
      "text/plain": [
       "numpy.ndarray"
      ]
     },
     "execution_count": 6,
     "metadata": {},
     "output_type": "execute_result"
    }
   ],
   "source": [
    "np_array = np.array([1,2,3,4,5])\n",
    "print(np_array)\n",
    "type(np_array)"
   ]
  },
  {
   "cell_type": "code",
   "execution_count": 7,
   "id": "f51556c5",
   "metadata": {},
   "outputs": [],
   "source": [
    "#n-dimensional array"
   ]
  },
  {
   "cell_type": "code",
   "execution_count": 29,
   "id": "99a99cfe",
   "metadata": {},
   "outputs": [
    {
     "name": "stdout",
     "output_type": "stream",
     "text": [
      "[0 1 2 3 4]\n"
     ]
    },
    {
     "data": {
      "text/plain": [
       "numpy.ndarray"
      ]
     },
     "execution_count": 29,
     "metadata": {},
     "output_type": "execute_result"
    }
   ],
   "source": [
    "listToNP = np.asarray(list)\n",
    "print(listToNP)\n",
    "type(listToNP)"
   ]
  },
  {
   "cell_type": "code",
   "execution_count": 8,
   "id": "f875aab4",
   "metadata": {},
   "outputs": [
    {
     "data": {
      "text/plain": [
       "(5,)"
      ]
     },
     "execution_count": 8,
     "metadata": {},
     "output_type": "execute_result"
    }
   ],
   "source": [
    "np_array.shape"
   ]
  },
  {
   "cell_type": "code",
   "execution_count": 12,
   "id": "9e1232b3",
   "metadata": {},
   "outputs": [
    {
     "name": "stdout",
     "output_type": "stream",
     "text": [
      "[[ 0  1  2  3  4]\n",
      " [ 6  7  8  9 10]]\n"
     ]
    }
   ],
   "source": [
    "#creating a 2 dimensional array\n",
    "b = np.array([(0,1,2,3,4), (6,7,8,9,10)])\n",
    "print(b)"
   ]
  },
  {
   "cell_type": "code",
   "execution_count": 13,
   "id": "670a24a5",
   "metadata": {},
   "outputs": [
    {
     "data": {
      "text/plain": [
       "(2, 5)"
      ]
     },
     "execution_count": 13,
     "metadata": {},
     "output_type": "execute_result"
    }
   ],
   "source": [
    "b.shape"
   ]
  },
  {
   "cell_type": "code",
   "execution_count": 15,
   "id": "6be156bb",
   "metadata": {},
   "outputs": [
    {
     "name": "stdout",
     "output_type": "stream",
     "text": [
      "[[ 0.  1.  2.  3.  4.]\n",
      " [ 6.  7.  8.  9. 10.]]\n"
     ]
    }
   ],
   "source": [
    "c = np.array([(0,1,2,3,4), (6,7,8,9,10)], dtype=float) \n",
    "print(c)"
   ]
  },
  {
   "cell_type": "code",
   "execution_count": 16,
   "id": "4f29af92",
   "metadata": {},
   "outputs": [
    {
     "name": "stdout",
     "output_type": "stream",
     "text": [
      "[[0. 0. 0. 0. 0.]\n",
      " [0. 0. 0. 0. 0.]\n",
      " [0. 0. 0. 0. 0.]\n",
      " [0. 0. 0. 0. 0.]]\n"
     ]
    }
   ],
   "source": [
    "#numpy array of zeros\n",
    "\n",
    "x = np.zeros((4,5))\n",
    "print(x)"
   ]
  },
  {
   "cell_type": "code",
   "execution_count": 17,
   "id": "9de9352d",
   "metadata": {},
   "outputs": [
    {
     "name": "stdout",
     "output_type": "stream",
     "text": [
      "[[1. 1. 1.]\n",
      " [1. 1. 1.]\n",
      " [1. 1. 1.]]\n"
     ]
    }
   ],
   "source": [
    "#numpy array of ones\n",
    "y = np.ones((3,3))\n",
    "print(y)"
   ]
  },
  {
   "cell_type": "code",
   "execution_count": 19,
   "id": "0f0e5eb9",
   "metadata": {},
   "outputs": [
    {
     "name": "stdout",
     "output_type": "stream",
     "text": [
      "[[69 69 69 69]\n",
      " [69 69 69 69]\n",
      " [69 69 69 69]\n",
      " [69 69 69 69]]\n"
     ]
    }
   ],
   "source": [
    "#numpy array of custom value\n",
    "z = np.full((4,4), 69)\n",
    "print(z)"
   ]
  },
  {
   "cell_type": "code",
   "execution_count": 20,
   "id": "672e114c",
   "metadata": {},
   "outputs": [
    {
     "name": "stdout",
     "output_type": "stream",
     "text": [
      "[[1. 0. 0. 0.]\n",
      " [0. 1. 0. 0.]\n",
      " [0. 0. 1. 0.]\n",
      " [0. 0. 0. 1.]]\n"
     ]
    }
   ],
   "source": [
    "#Identity matrix\n",
    "I  = np.eye(4)\n",
    "print(I)"
   ]
  },
  {
   "cell_type": "code",
   "execution_count": 22,
   "id": "3ed843ba",
   "metadata": {},
   "outputs": [
    {
     "name": "stdout",
     "output_type": "stream",
     "text": [
      "[[0.04585509 0.57561787 0.74539144]\n",
      " [0.29192751 0.58304422 0.30093002]\n",
      " [0.569508   0.26358468 0.89258585]\n",
      " [0.31391569 0.84871012 0.54163105]]\n"
     ]
    }
   ],
   "source": [
    "#numpy array of random values\n",
    "r = np.random.random((4, 3))\n",
    "print(r)"
   ]
  },
  {
   "cell_type": "code",
   "execution_count": 23,
   "id": "76f93ccd",
   "metadata": {},
   "outputs": [
    {
     "name": "stdout",
     "output_type": "stream",
     "text": [
      "[[76 79 69]\n",
      " [84 71 87]\n",
      " [82 73 78]\n",
      " [78 86 72]]\n"
     ]
    }
   ],
   "source": [
    "#numpy array of random int values\n",
    "r = np.random.randint(69,88,(4, 3))\n",
    "print(r)"
   ]
  },
  {
   "cell_type": "code",
   "execution_count": 24,
   "id": "89e4e8c5",
   "metadata": {},
   "outputs": [
    {
     "name": "stdout",
     "output_type": "stream",
     "text": [
      "[10. 15. 20. 25. 30.]\n"
     ]
    }
   ],
   "source": [
    "#numpy array of evenly spaced values\n",
    "d = np.linspace(10, 30, 5)\n",
    "print(d)"
   ]
  },
  {
   "cell_type": "code",
   "execution_count": 27,
   "id": "d739ec20",
   "metadata": {},
   "outputs": [
    {
     "name": "stdout",
     "output_type": "stream",
     "text": [
      "[10. 14. 18. 22. 26. 30.]\n"
     ]
    }
   ],
   "source": [
    "# here we are specifying the number of values required at the third position\n",
    "d = np.linspace(10, 30, 6)\n",
    "print(d)"
   ]
  },
  {
   "cell_type": "code",
   "execution_count": 28,
   "id": "ee82c5ed",
   "metadata": {},
   "outputs": [
    {
     "name": "stdout",
     "output_type": "stream",
     "text": [
      "[10 16 22 28]\n"
     ]
    }
   ],
   "source": [
    "# here we are specifying the space required at the third position\n",
    "e = np.arange(10, 30, 6)\n",
    "print(e)"
   ]
  },
  {
   "cell_type": "markdown",
   "id": "378c9e5c",
   "metadata": {},
   "source": [
    "Analyzing a numpy array\n"
   ]
  },
  {
   "cell_type": "code",
   "execution_count": null,
   "id": "a840dd7c",
   "metadata": {},
   "outputs": [
    {
     "name": "stdout",
     "output_type": "stream",
     "text": [
      "[[59 19 36 18 27]\n",
      " [64 35 19 25 25]\n",
      " [92 52 21 84 58]\n",
      " [56 25 43 30 25]\n",
      " [33 89 22 66 84]]\n"
     ]
    }
   ],
   "source": [
    "f = np.random.randint(10, 100,(5,5))\n",
    "print(f)"
   ]
  },
  {
   "cell_type": "code",
   "execution_count": 31,
   "id": "ff071f12",
   "metadata": {},
   "outputs": [
    {
     "name": "stdout",
     "output_type": "stream",
     "text": [
      "(5, 5)\n"
     ]
    }
   ],
   "source": [
    "# array dimension\n",
    "print(f.shape)"
   ]
  },
  {
   "cell_type": "code",
   "execution_count": 32,
   "id": "b056b073",
   "metadata": {},
   "outputs": [
    {
     "name": "stdout",
     "output_type": "stream",
     "text": [
      "2\n"
     ]
    }
   ],
   "source": [
    "#number of dimensions\n",
    "print(f.ndim)"
   ]
  },
  {
   "cell_type": "code",
   "execution_count": 33,
   "id": "db1f084c",
   "metadata": {},
   "outputs": [
    {
     "name": "stdout",
     "output_type": "stream",
     "text": [
      "25\n"
     ]
    }
   ],
   "source": [
    "# number of elemnts in the array\n",
    "print(f.size)"
   ]
  },
  {
   "cell_type": "code",
   "execution_count": 34,
   "id": "cc7a6837",
   "metadata": {},
   "outputs": [
    {
     "name": "stdout",
     "output_type": "stream",
     "text": [
      "int32\n"
     ]
    }
   ],
   "source": [
    "#checking the data type of values in the array\n",
    "print(f.dtype)"
   ]
  },
  {
   "cell_type": "markdown",
   "id": "3cfa6e22",
   "metadata": {},
   "source": [
    "Mathematical operations on a numpy array"
   ]
  },
  {
   "cell_type": "code",
   "execution_count": 36,
   "id": "74220a5e",
   "metadata": {},
   "outputs": [
    {
     "name": "stdout",
     "output_type": "stream",
     "text": [
      "[5, 6, 7, 8, 9]\n"
     ]
    }
   ],
   "source": [
    "list2 = [i for i in range(5, 10)]\n",
    "print(list2)"
   ]
  },
  {
   "cell_type": "code",
   "execution_count": 38,
   "id": "6747b9d2",
   "metadata": {},
   "outputs": [
    {
     "name": "stdout",
     "output_type": "stream",
     "text": [
      "[0, 1, 2, 3, 4]\n"
     ]
    }
   ],
   "source": [
    "print(list)"
   ]
  },
  {
   "cell_type": "code",
   "execution_count": 40,
   "id": "e53d127f",
   "metadata": {},
   "outputs": [
    {
     "name": "stdout",
     "output_type": "stream",
     "text": [
      "[0, 1, 2, 3, 4, 5, 6, 7, 8, 9]\n"
     ]
    }
   ],
   "source": [
    "print(list + list2)"
   ]
  },
  {
   "cell_type": "code",
   "execution_count": 45,
   "id": "b4ef19e1",
   "metadata": {},
   "outputs": [
    {
     "name": "stdout",
     "output_type": "stream",
     "text": [
      "[[2 9 8 3 8]\n",
      " [4 1 4 6 2]\n",
      " [4 7 2 3 5]\n",
      " [6 6 4 6 5]\n",
      " [4 4 8 1 1]]\n"
     ]
    }
   ],
   "source": [
    "g = np.random.randint(1,10,(5,5))\n",
    "print(g)"
   ]
  },
  {
   "cell_type": "code",
   "execution_count": 46,
   "id": "9afc97fe",
   "metadata": {},
   "outputs": [
    {
     "name": "stdout",
     "output_type": "stream",
     "text": [
      "[[59 19 36 18 27]\n",
      " [64 35 19 25 25]\n",
      " [92 52 21 84 58]\n",
      " [56 25 43 30 25]\n",
      " [33 89 22 66 84]]\n"
     ]
    }
   ],
   "source": [
    "print(f)"
   ]
  },
  {
   "cell_type": "code",
   "execution_count": 47,
   "id": "db40d069",
   "metadata": {},
   "outputs": [
    {
     "name": "stdout",
     "output_type": "stream",
     "text": [
      "[[61 28 44 21 35]\n",
      " [68 36 23 31 27]\n",
      " [96 59 23 87 63]\n",
      " [62 31 47 36 30]\n",
      " [37 93 30 67 85]]\n"
     ]
    }
   ],
   "source": [
    "print(f + g)"
   ]
  },
  {
   "cell_type": "code",
   "execution_count": 48,
   "id": "ea15c7d6",
   "metadata": {},
   "outputs": [
    {
     "name": "stdout",
     "output_type": "stream",
     "text": [
      "[[61 28 44 21 35]\n",
      " [68 36 23 31 27]\n",
      " [96 59 23 87 63]\n",
      " [62 31 47 36 30]\n",
      " [37 93 30 67 85]]\n",
      "[[57 10 28 15 19]\n",
      " [60 34 15 19 23]\n",
      " [88 45 19 81 53]\n",
      " [50 19 39 24 20]\n",
      " [29 85 14 65 83]]\n",
      "[[118 171 288  54 216]\n",
      " [256  35  76 150  50]\n",
      " [368 364  42 252 290]\n",
      " [336 150 172 180 125]\n",
      " [132 356 176  66  84]]\n",
      "[[29.5         2.11111111  4.5         6.          3.375     ]\n",
      " [16.         35.          4.75        4.16666667 12.5       ]\n",
      " [23.          7.42857143 10.5        28.         11.6       ]\n",
      " [ 9.33333333  4.16666667 10.75        5.          5.        ]\n",
      " [ 8.25       22.25        2.75       66.         84.        ]]\n"
     ]
    }
   ],
   "source": [
    "print(f+g)\n",
    "print(f-g)\n",
    "print(f*g)\n",
    "print(f/g)"
   ]
  },
  {
   "cell_type": "code",
   "execution_count": 50,
   "id": "93fe1704",
   "metadata": {},
   "outputs": [
    {
     "name": "stdout",
     "output_type": "stream",
     "text": [
      "[[61 28 44 21 35]\n",
      " [68 36 23 31 27]\n",
      " [96 59 23 87 63]\n",
      " [62 31 47 36 30]\n",
      " [37 93 30 67 85]]\n",
      "[[57 10 28 15 19]\n",
      " [60 34 15 19 23]\n",
      " [88 45 19 81 53]\n",
      " [50 19 39 24 20]\n",
      " [29 85 14 65 83]]\n",
      "[[118 171 288  54 216]\n",
      " [256  35  76 150  50]\n",
      " [368 364  42 252 290]\n",
      " [336 150 172 180 125]\n",
      " [132 356 176  66  84]]\n",
      "[[29.5         2.11111111  4.5         6.          3.375     ]\n",
      " [16.         35.          4.75        4.16666667 12.5       ]\n",
      " [23.          7.42857143 10.5        28.         11.6       ]\n",
      " [ 9.33333333  4.16666667 10.75        5.          5.        ]\n",
      " [ 8.25       22.25        2.75       66.         84.        ]]\n"
     ]
    }
   ],
   "source": [
    "print(np.add(f,g))\n",
    "print(np.subtract(f,g))\n",
    "print(np.multiply(f,g))\n",
    "print(np.divide(f,g))"
   ]
  },
  {
   "cell_type": "markdown",
   "id": "e73bd512",
   "metadata": {},
   "source": [
    "Array Manipulation"
   ]
  },
  {
   "cell_type": "code",
   "execution_count": 53,
   "id": "4fe18175",
   "metadata": {},
   "outputs": [
    {
     "name": "stdout",
     "output_type": "stream",
     "text": [
      "(5, 4)\n",
      "[[1 9 1 9]\n",
      " [2 5 7 9]\n",
      " [8 6 5 6]\n",
      " [2 7 3 4]\n",
      " [1 5 3 3]]\n"
     ]
    }
   ],
   "source": [
    "#transpose of a matrix\n",
    "h = np.random.randint(1,10,(5,4))\n",
    "print(h.shape)\n",
    "print(h)"
   ]
  },
  {
   "cell_type": "code",
   "execution_count": null,
   "id": "e0a1eafc",
   "metadata": {},
   "outputs": [
    {
     "name": "stdout",
     "output_type": "stream",
     "text": [
      "(4, 5)\n",
      "[[1 2 8 2 1]\n",
      " [9 5 6 7 5]\n",
      " [1 7 5 3 3]\n",
      " [9 9 6 4 3]]\n"
     ]
    }
   ],
   "source": [
    "trans = np.transpose(h)\n",
    "print(trans.shape)\n",
    "print(trans)"
   ]
  },
  {
   "cell_type": "code",
   "execution_count": 55,
   "id": "4c0b63de",
   "metadata": {},
   "outputs": [
    {
     "name": "stdout",
     "output_type": "stream",
     "text": [
      "(5, 4)\n",
      "[[1 9 1 9]\n",
      " [2 5 7 9]\n",
      " [8 6 5 6]\n",
      " [2 7 3 4]\n",
      " [1 5 3 3]]\n"
     ]
    }
   ],
   "source": [
    "trans2 = trans.T\n",
    "print(trans2.shape)\n",
    "print(trans2)"
   ]
  },
  {
   "cell_type": "code",
   "execution_count": 57,
   "id": "aba2f665",
   "metadata": {},
   "outputs": [
    {
     "name": "stdout",
     "output_type": "stream",
     "text": [
      "(5, 4)\n",
      "[[1 9 1 9]\n",
      " [2 5 7 9]\n",
      " [8 6 5 6]\n",
      " [2 7 3 4]\n",
      " [1 5 3 3]]\n"
     ]
    }
   ],
   "source": [
    "#Reshaping an array\n",
    "print(h.shape)\n",
    "print(h)"
   ]
  },
  {
   "cell_type": "code",
   "execution_count": 59,
   "id": "5b598983",
   "metadata": {},
   "outputs": [
    {
     "name": "stdout",
     "output_type": "stream",
     "text": [
      "[[1 9 1 9 2]\n",
      " [5 7 9 8 6]\n",
      " [5 6 2 7 3]\n",
      " [4 1 5 3 3]]\n"
     ]
    }
   ],
   "source": [
    "H = h.reshape(4,5)\n",
    "print(H)"
   ]
  }
 ],
 "metadata": {
  "kernelspec": {
   "display_name": "base",
   "language": "python",
   "name": "python3"
  },
  "language_info": {
   "codemirror_mode": {
    "name": "ipython",
    "version": 3
   },
   "file_extension": ".py",
   "mimetype": "text/x-python",
   "name": "python",
   "nbconvert_exporter": "python",
   "pygments_lexer": "ipython3",
   "version": "3.12.7"
  }
 },
 "nbformat": 4,
 "nbformat_minor": 5
}
